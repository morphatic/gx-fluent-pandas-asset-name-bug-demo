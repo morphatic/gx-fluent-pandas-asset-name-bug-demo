{
 "cells": [
  {
   "cell_type": "code",
   "execution_count": 36,
   "id": "b00271ce-9f8c-46f5-9139-c8bf0ad87241",
   "metadata": {},
   "outputs": [],
   "source": [
    "# Initialize a new GX data context and project structure\n",
    "# The 2 lines below will create a folder in the root of the\n",
    "# project called `/gx` and add all of the folders necessary\n",
    "# to build your project. If the context already exists, it\n",
    "# will NOT re-initialize it, but use the one that's already\n",
    "# there.\n",
    "from great_expectations.data_context import FileDataContext\n",
    "context = FileDataContext.create() # use the default directory"
   ]
  },
  {
   "cell_type": "code",
   "execution_count": 42,
   "id": "6739da0a-76f6-4f11-a563-8962a362c550",
   "metadata": {},
   "outputs": [],
   "source": [
    "# Specify configuration for your validations\n",
    "df = \"data\\iris.data.csv\" # data file; NOTE Windows-specific path spec\n",
    "datasource_name = \"demo\"\n",
    "asset_name = \"iris\"\n",
    "suite_name = f\"{asset_name}_expectations\""
   ]
  },
  {
   "cell_type": "code",
   "execution_count": 43,
   "id": "65987870-dc43-43e5-9ac8-2a8c02163ae0",
   "metadata": {},
   "outputs": [],
   "source": [
    "# Retrieve or create a datasource and asset\n",
    "if datasource_name not in context.datasources:\n",
    "    datasource = context.sources.add_pandas(datasource_name)\n",
    "    asset = datasource.add_csv_asset(asset_name, filepath_or_buffer=df)\n",
    "else:\n",
    "    datasource = context.get_datasource(datasource_name)\n",
    "    asset = datasource.get_asset(asset_name)"
   ]
  },
  {
   "cell_type": "code",
   "execution_count": 44,
   "id": "faa3440d-15ae-4761-96e9-64893d9ebf4a",
   "metadata": {},
   "outputs": [],
   "source": [
    "# Create a batch request\n",
    "batch_request = asset.build_batch_request()"
   ]
  },
  {
   "cell_type": "code",
   "execution_count": 45,
   "id": "0abc13da-c26f-40a2-9541-cc756a117d6c",
   "metadata": {},
   "outputs": [
    {
     "data": {
      "text/plain": [
       "{\n",
       "  \"expectation_suite_name\": \"iris_expectations\",\n",
       "  \"ge_cloud_id\": null,\n",
       "  \"expectations\": [],\n",
       "  \"data_asset_type\": null,\n",
       "  \"meta\": {\n",
       "    \"great_expectations_version\": \"0.17.19\"\n",
       "  }\n",
       "}"
      ]
     },
     "execution_count": 45,
     "metadata": {},
     "output_type": "execute_result"
    }
   ],
   "source": [
    "# Create or update an expectation suite\n",
    "context.add_or_update_expectation_suite(expectation_suite_name=suite_name)"
   ]
  },
  {
   "cell_type": "code",
   "execution_count": 46,
   "id": "ef90df26-e252-4489-8c19-e47335e1963a",
   "metadata": {},
   "outputs": [
    {
     "name": "stdout",
     "output_type": "stream",
     "text": [
      "\n"
     ]
    },
    {
     "data": {
      "application/vnd.jupyter.widget-view+json": {
       "model_id": "8e977ec394c14119b79319fdbab4de36",
       "version_major": 2,
       "version_minor": 0
      },
      "text/plain": [
       "Generating Expectations:   0%|          | 0/8 [00:00<?, ?it/s]"
      ]
     },
     "metadata": {},
     "output_type": "display_data"
    },
    {
     "data": {
      "application/vnd.jupyter.widget-view+json": {
       "model_id": "",
       "version_major": 2,
       "version_minor": 0
      },
      "text/plain": [
       "Profiling Dataset:         0%|          | 0/1 [00:00<?, ?it/s]"
      ]
     },
     "metadata": {},
     "output_type": "display_data"
    },
    {
     "data": {
      "application/vnd.jupyter.widget-view+json": {
       "model_id": "cb8e129cfabe4e98a04d077857b5163e",
       "version_major": 2,
       "version_minor": 0
      },
      "text/plain": [
       "Calculating Metrics:   0%|          | 0/1 [00:00<?, ?it/s]"
      ]
     },
     "metadata": {},
     "output_type": "display_data"
    },
    {
     "data": {
      "application/vnd.jupyter.widget-view+json": {
       "model_id": "49a26b1bb50c42f084000948007a5532",
       "version_major": 2,
       "version_minor": 0
      },
      "text/plain": [
       "Calculating Metrics:   0%|          | 0/2 [00:00<?, ?it/s]"
      ]
     },
     "metadata": {},
     "output_type": "display_data"
    },
    {
     "data": {
      "application/vnd.jupyter.widget-view+json": {
       "model_id": "acf90ca066484078b6f2359efb6b25a9",
       "version_major": 2,
       "version_minor": 0
      },
      "text/plain": [
       "Calculating Metrics:   0%|          | 0/2 [00:00<?, ?it/s]"
      ]
     },
     "metadata": {},
     "output_type": "display_data"
    },
    {
     "data": {
      "application/vnd.jupyter.widget-view+json": {
       "model_id": "f6f0a6a07d77497296de3dc2810509e6",
       "version_major": 2,
       "version_minor": 0
      },
      "text/plain": [
       "Calculating Metrics:   0%|          | 0/2 [00:00<?, ?it/s]"
      ]
     },
     "metadata": {},
     "output_type": "display_data"
    },
    {
     "data": {
      "application/vnd.jupyter.widget-view+json": {
       "model_id": "45dd6fdbd84d430a95346aacbd452b0d",
       "version_major": 2,
       "version_minor": 0
      },
      "text/plain": [
       "Calculating Metrics:   0%|          | 0/1 [00:00<?, ?it/s]"
      ]
     },
     "metadata": {},
     "output_type": "display_data"
    },
    {
     "data": {
      "application/vnd.jupyter.widget-view+json": {
       "model_id": "71e658ea762d44b58da02457bab84264",
       "version_major": 2,
       "version_minor": 0
      },
      "text/plain": [
       "Calculating Metrics:   0%|          | 0/1 [00:00<?, ?it/s]"
      ]
     },
     "metadata": {},
     "output_type": "display_data"
    },
    {
     "data": {
      "application/vnd.jupyter.widget-view+json": {
       "model_id": "6205e5fe53794eea807d8446a217868c",
       "version_major": 2,
       "version_minor": 0
      },
      "text/plain": [
       "Calculating Metrics:   0%|          | 0/13 [00:00<?, ?it/s]"
      ]
     },
     "metadata": {},
     "output_type": "display_data"
    },
    {
     "data": {
      "application/vnd.jupyter.widget-view+json": {
       "model_id": "",
       "version_major": 2,
       "version_minor": 0
      },
      "text/plain": [
       "Profiling Dataset:         0%|          | 0/0 [00:00<?, ?it/s]"
      ]
     },
     "metadata": {},
     "output_type": "display_data"
    },
    {
     "data": {
      "application/vnd.jupyter.widget-view+json": {
       "model_id": "d5d25bdb189a45e9b73fe59c52b1fc54",
       "version_major": 2,
       "version_minor": 0
      },
      "text/plain": [
       "Calculating Metrics:   0%|          | 0/2 [00:00<?, ?it/s]"
      ]
     },
     "metadata": {},
     "output_type": "display_data"
    },
    {
     "data": {
      "application/vnd.jupyter.widget-view+json": {
       "model_id": "2f4bca08e74342daac9997012fcc9242",
       "version_major": 2,
       "version_minor": 0
      },
      "text/plain": [
       "Calculating Metrics:   0%|          | 0/1 [00:00<?, ?it/s]"
      ]
     },
     "metadata": {},
     "output_type": "display_data"
    },
    {
     "data": {
      "application/vnd.jupyter.widget-view+json": {
       "model_id": "2e0f2546e6ac4e34bc23262d7bddea32",
       "version_major": 2,
       "version_minor": 0
      },
      "text/plain": [
       "Calculating Metrics:   0%|          | 0/1 [00:00<?, ?it/s]"
      ]
     },
     "metadata": {},
     "output_type": "display_data"
    },
    {
     "data": {
      "application/vnd.jupyter.widget-view+json": {
       "model_id": "e416f5198f044addad94ba489f5c457f",
       "version_major": 2,
       "version_minor": 0
      },
      "text/plain": [
       "Calculating Metrics:   0%|          | 0/13 [00:00<?, ?it/s]"
      ]
     },
     "metadata": {},
     "output_type": "display_data"
    },
    {
     "data": {
      "application/vnd.jupyter.widget-view+json": {
       "model_id": "",
       "version_major": 2,
       "version_minor": 0
      },
      "text/plain": [
       "Profiling Dataset:         0%|          | 0/0 [00:00<?, ?it/s]"
      ]
     },
     "metadata": {},
     "output_type": "display_data"
    },
    {
     "data": {
      "application/vnd.jupyter.widget-view+json": {
       "model_id": "554fc469b0714cfbb228d9f1a02426ea",
       "version_major": 2,
       "version_minor": 0
      },
      "text/plain": [
       "Calculating Metrics:   0%|          | 0/2 [00:00<?, ?it/s]"
      ]
     },
     "metadata": {},
     "output_type": "display_data"
    },
    {
     "data": {
      "application/vnd.jupyter.widget-view+json": {
       "model_id": "c6f3b4a727ca4227a3def8d31ca3ff7c",
       "version_major": 2,
       "version_minor": 0
      },
      "text/plain": [
       "Calculating Metrics:   0%|          | 0/1 [00:00<?, ?it/s]"
      ]
     },
     "metadata": {},
     "output_type": "display_data"
    },
    {
     "data": {
      "application/vnd.jupyter.widget-view+json": {
       "model_id": "665dc5e5f3fb4d67b93f5b955307cd30",
       "version_major": 2,
       "version_minor": 0
      },
      "text/plain": [
       "Calculating Metrics:   0%|          | 0/1 [00:00<?, ?it/s]"
      ]
     },
     "metadata": {},
     "output_type": "display_data"
    },
    {
     "data": {
      "application/vnd.jupyter.widget-view+json": {
       "model_id": "7ab23d70265347c19fbc1e784e810d9d",
       "version_major": 2,
       "version_minor": 0
      },
      "text/plain": [
       "Calculating Metrics:   0%|          | 0/13 [00:00<?, ?it/s]"
      ]
     },
     "metadata": {},
     "output_type": "display_data"
    },
    {
     "data": {
      "application/vnd.jupyter.widget-view+json": {
       "model_id": "",
       "version_major": 2,
       "version_minor": 0
      },
      "text/plain": [
       "Profiling Dataset:         0%|          | 0/5 [00:00<?, ?it/s]"
      ]
     },
     "metadata": {},
     "output_type": "display_data"
    },
    {
     "data": {
      "application/vnd.jupyter.widget-view+json": {
       "model_id": "22bfd66592e24456836d866c51ed2cc8",
       "version_major": 2,
       "version_minor": 0
      },
      "text/plain": [
       "Calculating Metrics:   0%|          | 0/5 [00:00<?, ?it/s]"
      ]
     },
     "metadata": {},
     "output_type": "display_data"
    },
    {
     "data": {
      "application/vnd.jupyter.widget-view+json": {
       "model_id": "ec554dbf70a848b49533eb39f616316f",
       "version_major": 2,
       "version_minor": 0
      },
      "text/plain": [
       "Calculating Metrics:   0%|          | 0/1 [00:00<?, ?it/s]"
      ]
     },
     "metadata": {},
     "output_type": "display_data"
    },
    {
     "data": {
      "application/vnd.jupyter.widget-view+json": {
       "model_id": "26882e0637cf4871ab8b46e70fb318ab",
       "version_major": 2,
       "version_minor": 0
      },
      "text/plain": [
       "Calculating Metrics:   0%|          | 0/5 [00:00<?, ?it/s]"
      ]
     },
     "metadata": {},
     "output_type": "display_data"
    },
    {
     "data": {
      "application/vnd.jupyter.widget-view+json": {
       "model_id": "a0b7b78201c242a0bfb23997e048f34e",
       "version_major": 2,
       "version_minor": 0
      },
      "text/plain": [
       "Calculating Metrics:   0%|          | 0/5 [00:00<?, ?it/s]"
      ]
     },
     "metadata": {},
     "output_type": "display_data"
    },
    {
     "data": {
      "application/vnd.jupyter.widget-view+json": {
       "model_id": "9430f467e9b842bda6adb7d448d89a19",
       "version_major": 2,
       "version_minor": 0
      },
      "text/plain": [
       "Calculating Metrics:   0%|          | 0/5 [00:00<?, ?it/s]"
      ]
     },
     "metadata": {},
     "output_type": "display_data"
    },
    {
     "data": {
      "application/vnd.jupyter.widget-view+json": {
       "model_id": "159eeafab6564deb966f6125cd55acce",
       "version_major": 2,
       "version_minor": 0
      },
      "text/plain": [
       "Calculating Metrics:   0%|          | 0/1 [00:00<?, ?it/s]"
      ]
     },
     "metadata": {},
     "output_type": "display_data"
    },
    {
     "data": {
      "application/vnd.jupyter.widget-view+json": {
       "model_id": "76ae45bff01543d5b87a921ba84e7fad",
       "version_major": 2,
       "version_minor": 0
      },
      "text/plain": [
       "Calculating Metrics:   0%|          | 0/5 [00:00<?, ?it/s]"
      ]
     },
     "metadata": {},
     "output_type": "display_data"
    },
    {
     "data": {
      "application/vnd.jupyter.widget-view+json": {
       "model_id": "db4cf8cd4df04ae6817c4fe0a64b275c",
       "version_major": 2,
       "version_minor": 0
      },
      "text/plain": [
       "Calculating Metrics:   0%|          | 0/5 [00:00<?, ?it/s]"
      ]
     },
     "metadata": {},
     "output_type": "display_data"
    },
    {
     "data": {
      "application/vnd.jupyter.widget-view+json": {
       "model_id": "c95129afe5fe4b08b58d6d8adb4b1030",
       "version_major": 2,
       "version_minor": 0
      },
      "text/plain": [
       "Calculating Metrics:   0%|          | 0/5 [00:00<?, ?it/s]"
      ]
     },
     "metadata": {},
     "output_type": "display_data"
    },
    {
     "data": {
      "application/vnd.jupyter.widget-view+json": {
       "model_id": "2f2e592a33c847e09e3294d63b253cba",
       "version_major": 2,
       "version_minor": 0
      },
      "text/plain": [
       "Calculating Metrics:   0%|          | 0/1 [00:00<?, ?it/s]"
      ]
     },
     "metadata": {},
     "output_type": "display_data"
    },
    {
     "data": {
      "application/vnd.jupyter.widget-view+json": {
       "model_id": "32e3be444f2f442ab5f237a508484d68",
       "version_major": 2,
       "version_minor": 0
      },
      "text/plain": [
       "Calculating Metrics:   0%|          | 0/5 [00:00<?, ?it/s]"
      ]
     },
     "metadata": {},
     "output_type": "display_data"
    },
    {
     "data": {
      "application/vnd.jupyter.widget-view+json": {
       "model_id": "07a7da45c3d749f7a26a4d9dc20dea80",
       "version_major": 2,
       "version_minor": 0
      },
      "text/plain": [
       "Calculating Metrics:   0%|          | 0/5 [00:00<?, ?it/s]"
      ]
     },
     "metadata": {},
     "output_type": "display_data"
    },
    {
     "data": {
      "application/vnd.jupyter.widget-view+json": {
       "model_id": "79f822ab640e47fcb6f274fb4b3c7fdb",
       "version_major": 2,
       "version_minor": 0
      },
      "text/plain": [
       "Calculating Metrics:   0%|          | 0/5 [00:00<?, ?it/s]"
      ]
     },
     "metadata": {},
     "output_type": "display_data"
    },
    {
     "data": {
      "application/vnd.jupyter.widget-view+json": {
       "model_id": "7a382ce01b434c98bd9cbb9b524e0d5d",
       "version_major": 2,
       "version_minor": 0
      },
      "text/plain": [
       "Calculating Metrics:   0%|          | 0/1 [00:00<?, ?it/s]"
      ]
     },
     "metadata": {},
     "output_type": "display_data"
    },
    {
     "data": {
      "application/vnd.jupyter.widget-view+json": {
       "model_id": "3f16566b0fb24141bfa7bed0b531dcbd",
       "version_major": 2,
       "version_minor": 0
      },
      "text/plain": [
       "Calculating Metrics:   0%|          | 0/5 [00:00<?, ?it/s]"
      ]
     },
     "metadata": {},
     "output_type": "display_data"
    },
    {
     "data": {
      "application/vnd.jupyter.widget-view+json": {
       "model_id": "2da56cb887394a789349b17d65578274",
       "version_major": 2,
       "version_minor": 0
      },
      "text/plain": [
       "Calculating Metrics:   0%|          | 0/5 [00:00<?, ?it/s]"
      ]
     },
     "metadata": {},
     "output_type": "display_data"
    },
    {
     "data": {
      "application/vnd.jupyter.widget-view+json": {
       "model_id": "8992970dedcc4f7dabe946d91efcab0b",
       "version_major": 2,
       "version_minor": 0
      },
      "text/plain": [
       "Calculating Metrics:   0%|          | 0/5 [00:00<?, ?it/s]"
      ]
     },
     "metadata": {},
     "output_type": "display_data"
    },
    {
     "data": {
      "application/vnd.jupyter.widget-view+json": {
       "model_id": "576b9dbdf53448ad82ed317146ed44fd",
       "version_major": 2,
       "version_minor": 0
      },
      "text/plain": [
       "Calculating Metrics:   0%|          | 0/1 [00:00<?, ?it/s]"
      ]
     },
     "metadata": {},
     "output_type": "display_data"
    },
    {
     "data": {
      "application/vnd.jupyter.widget-view+json": {
       "model_id": "1bd8f25c98a84d109031b0851b810249",
       "version_major": 2,
       "version_minor": 0
      },
      "text/plain": [
       "Calculating Metrics:   0%|          | 0/5 [00:00<?, ?it/s]"
      ]
     },
     "metadata": {},
     "output_type": "display_data"
    },
    {
     "data": {
      "application/vnd.jupyter.widget-view+json": {
       "model_id": "a494006f1dde4fe8b7e468ac883ed10a",
       "version_major": 2,
       "version_minor": 0
      },
      "text/plain": [
       "Calculating Metrics:   0%|          | 0/5 [00:00<?, ?it/s]"
      ]
     },
     "metadata": {},
     "output_type": "display_data"
    },
    {
     "data": {
      "application/vnd.jupyter.widget-view+json": {
       "model_id": "b69cf6e5a1c947d4a143a6f3a6f5024e",
       "version_major": 2,
       "version_minor": 0
      },
      "text/plain": [
       "Calculating Metrics:   0%|          | 0/2 [00:00<?, ?it/s]"
      ]
     },
     "metadata": {},
     "output_type": "display_data"
    },
    {
     "data": {
      "application/vnd.jupyter.widget-view+json": {
       "model_id": "1b865be45a564a219f598bfb713a7914",
       "version_major": 2,
       "version_minor": 0
      },
      "text/plain": [
       "Calculating Metrics:   0%|          | 0/1 [00:00<?, ?it/s]"
      ]
     },
     "metadata": {},
     "output_type": "display_data"
    },
    {
     "data": {
      "application/vnd.jupyter.widget-view+json": {
       "model_id": "0e542dc323e147f6bf756469156c8efa",
       "version_major": 2,
       "version_minor": 0
      },
      "text/plain": [
       "Profiling Dataset:         0%|          | 0/4 [00:00<?, ?it/s]"
      ]
     },
     "metadata": {},
     "output_type": "display_data"
    },
    {
     "data": {
      "application/vnd.jupyter.widget-view+json": {
       "model_id": "88dbf6aaa6ed48d49be0d23ffe359c7e",
       "version_major": 2,
       "version_minor": 0
      },
      "text/plain": [
       "Calculating Metrics:   0%|          | 0/6 [00:00<?, ?it/s]"
      ]
     },
     "metadata": {},
     "output_type": "display_data"
    },
    {
     "data": {
      "application/vnd.jupyter.widget-view+json": {
       "model_id": "34cc239e24b84af98932b0be8a54fd14",
       "version_major": 2,
       "version_minor": 0
      },
      "text/plain": [
       "Calculating Metrics:   0%|          | 0/2 [00:00<?, ?it/s]"
      ]
     },
     "metadata": {},
     "output_type": "display_data"
    },
    {
     "data": {
      "application/vnd.jupyter.widget-view+json": {
       "model_id": "a2a30ba33ce84649b0f28ad9218012d5",
       "version_major": 2,
       "version_minor": 0
      },
      "text/plain": [
       "Calculating Metrics:   0%|          | 0/1 [00:00<?, ?it/s]"
      ]
     },
     "metadata": {},
     "output_type": "display_data"
    },
    {
     "data": {
      "application/vnd.jupyter.widget-view+json": {
       "model_id": "",
       "version_major": 2,
       "version_minor": 0
      },
      "text/plain": [
       "Profiling Dataset:         0%|          | 0/0 [00:00<?, ?it/s]"
      ]
     },
     "metadata": {},
     "output_type": "display_data"
    },
    {
     "data": {
      "application/vnd.jupyter.widget-view+json": {
       "model_id": "f1732cc634ca484eb6c49f5c99ef878e",
       "version_major": 2,
       "version_minor": 0
      },
      "text/plain": [
       "Calculating Metrics:   0%|          | 0/2 [00:00<?, ?it/s]"
      ]
     },
     "metadata": {},
     "output_type": "display_data"
    },
    {
     "data": {
      "application/vnd.jupyter.widget-view+json": {
       "model_id": "590a52c7cc1043d59b9573e6909347e4",
       "version_major": 2,
       "version_minor": 0
      },
      "text/plain": [
       "Calculating Metrics:   0%|          | 0/1 [00:00<?, ?it/s]"
      ]
     },
     "metadata": {},
     "output_type": "display_data"
    },
    {
     "data": {
      "application/vnd.jupyter.widget-view+json": {
       "model_id": "40c5cdd3ee1f4a36819985a0a1cea069",
       "version_major": 2,
       "version_minor": 0
      },
      "text/plain": [
       "Profiling Dataset:         0%|          | 0/1 [00:00<?, ?it/s]"
      ]
     },
     "metadata": {},
     "output_type": "display_data"
    },
    {
     "data": {
      "application/vnd.jupyter.widget-view+json": {
       "model_id": "bc53e5fc398f48beb4f67bcd1e5dd459",
       "version_major": 2,
       "version_minor": 0
      },
      "text/plain": [
       "Calculating Metrics:   0%|          | 0/4 [00:00<?, ?it/s]"
      ]
     },
     "metadata": {},
     "output_type": "display_data"
    },
    {
     "data": {
      "application/vnd.jupyter.widget-view+json": {
       "model_id": "9380865b5c0e408a85ab93d37dae8e95",
       "version_major": 2,
       "version_minor": 0
      },
      "text/plain": [
       "Calculating Metrics:   0%|          | 0/4 [00:00<?, ?it/s]"
      ]
     },
     "metadata": {},
     "output_type": "display_data"
    },
    {
     "data": {
      "application/vnd.jupyter.widget-view+json": {
       "model_id": "03cbabc040ae464c98b8c6b51bb44791",
       "version_major": 2,
       "version_minor": 0
      },
      "text/plain": [
       "Calculating Metrics:   0%|          | 0/6 [00:00<?, ?it/s]"
      ]
     },
     "metadata": {},
     "output_type": "display_data"
    },
    {
     "data": {
      "application/vnd.jupyter.widget-view+json": {
       "model_id": "1a22f2f6e17648988412c49c7869a845",
       "version_major": 2,
       "version_minor": 0
      },
      "text/plain": [
       "Calculating Metrics:   0%|          | 0/23 [00:00<?, ?it/s]"
      ]
     },
     "metadata": {},
     "output_type": "display_data"
    },
    {
     "data": {
      "application/vnd.jupyter.widget-view+json": {
       "model_id": "26468ea3c881404ea46cd422f3369138",
       "version_major": 2,
       "version_minor": 0
      },
      "text/plain": [
       "Calculating Metrics:   0%|          | 0/2 [00:00<?, ?it/s]"
      ]
     },
     "metadata": {},
     "output_type": "display_data"
    },
    {
     "data": {
      "application/vnd.jupyter.widget-view+json": {
       "model_id": "3d527fbe974b4611aad7f38ba7107f75",
       "version_major": 2,
       "version_minor": 0
      },
      "text/plain": [
       "Calculating Metrics:   0%|          | 0/1 [00:00<?, ?it/s]"
      ]
     },
     "metadata": {},
     "output_type": "display_data"
    },
    {
     "data": {
      "application/vnd.jupyter.widget-view+json": {
       "model_id": "10832c4d93cf41368b67450c00c996c9",
       "version_major": 2,
       "version_minor": 0
      },
      "text/plain": [
       "Calculating Metrics:   0%|          | 0/8 [00:00<?, ?it/s]"
      ]
     },
     "metadata": {},
     "output_type": "display_data"
    },
    {
     "data": {
      "application/vnd.jupyter.widget-view+json": {
       "model_id": "07af850090de42d0b60d0b1a8b491a30",
       "version_major": 2,
       "version_minor": 0
      },
      "text/plain": [
       "Profiling Dataset:         0%|          | 0/5 [00:00<?, ?it/s]"
      ]
     },
     "metadata": {},
     "output_type": "display_data"
    },
    {
     "data": {
      "application/vnd.jupyter.widget-view+json": {
       "model_id": "f205a8de4c33452da102c73ac5f70949",
       "version_major": 2,
       "version_minor": 0
      },
      "text/plain": [
       "Calculating Metrics:   0%|          | 0/4 [00:00<?, ?it/s]"
      ]
     },
     "metadata": {},
     "output_type": "display_data"
    },
    {
     "data": {
      "application/vnd.jupyter.widget-view+json": {
       "model_id": "578d667a366b49429ef54d10708a71a4",
       "version_major": 2,
       "version_minor": 0
      },
      "text/plain": [
       "Calculating Metrics:   0%|          | 0/4 [00:00<?, ?it/s]"
      ]
     },
     "metadata": {},
     "output_type": "display_data"
    },
    {
     "data": {
      "application/vnd.jupyter.widget-view+json": {
       "model_id": "c7f4025e76584713ad428d0a4ee26999",
       "version_major": 2,
       "version_minor": 0
      },
      "text/plain": [
       "Calculating Metrics:   0%|          | 0/4 [00:00<?, ?it/s]"
      ]
     },
     "metadata": {},
     "output_type": "display_data"
    },
    {
     "data": {
      "application/vnd.jupyter.widget-view+json": {
       "model_id": "4314398c584d46ef9d392892b297c9f8",
       "version_major": 2,
       "version_minor": 0
      },
      "text/plain": [
       "Calculating Metrics:   0%|          | 0/7 [00:00<?, ?it/s]"
      ]
     },
     "metadata": {},
     "output_type": "display_data"
    },
    {
     "data": {
      "application/vnd.jupyter.widget-view+json": {
       "model_id": "311dfec11d3b488094a4ce86aad97488",
       "version_major": 2,
       "version_minor": 0
      },
      "text/plain": [
       "Calculating Metrics:   0%|          | 0/4 [00:00<?, ?it/s]"
      ]
     },
     "metadata": {},
     "output_type": "display_data"
    },
    {
     "data": {
      "application/vnd.jupyter.widget-view+json": {
       "model_id": "569525d7074b4c2f94f948ab09c9f902",
       "version_major": 2,
       "version_minor": 0
      },
      "text/plain": [
       "Calculating Metrics:   0%|          | 0/4 [00:00<?, ?it/s]"
      ]
     },
     "metadata": {},
     "output_type": "display_data"
    },
    {
     "data": {
      "application/vnd.jupyter.widget-view+json": {
       "model_id": "d0e61766c3364718b02a0218a3733029",
       "version_major": 2,
       "version_minor": 0
      },
      "text/plain": [
       "Calculating Metrics:   0%|          | 0/4 [00:00<?, ?it/s]"
      ]
     },
     "metadata": {},
     "output_type": "display_data"
    },
    {
     "data": {
      "application/vnd.jupyter.widget-view+json": {
       "model_id": "d3c00e8036864361aa621a0432ab331a",
       "version_major": 2,
       "version_minor": 0
      },
      "text/plain": [
       "Calculating Metrics:   0%|          | 0/7 [00:00<?, ?it/s]"
      ]
     },
     "metadata": {},
     "output_type": "display_data"
    },
    {
     "data": {
      "application/vnd.jupyter.widget-view+json": {
       "model_id": "8a23dc54c69d4b69aed2b9cddbc30c66",
       "version_major": 2,
       "version_minor": 0
      },
      "text/plain": [
       "Calculating Metrics:   0%|          | 0/4 [00:00<?, ?it/s]"
      ]
     },
     "metadata": {},
     "output_type": "display_data"
    },
    {
     "data": {
      "application/vnd.jupyter.widget-view+json": {
       "model_id": "28008e322c40417d9807fd8432310660",
       "version_major": 2,
       "version_minor": 0
      },
      "text/plain": [
       "Calculating Metrics:   0%|          | 0/4 [00:00<?, ?it/s]"
      ]
     },
     "metadata": {},
     "output_type": "display_data"
    },
    {
     "data": {
      "application/vnd.jupyter.widget-view+json": {
       "model_id": "c2804781436c409386924ab151c59cb5",
       "version_major": 2,
       "version_minor": 0
      },
      "text/plain": [
       "Calculating Metrics:   0%|          | 0/4 [00:00<?, ?it/s]"
      ]
     },
     "metadata": {},
     "output_type": "display_data"
    },
    {
     "data": {
      "application/vnd.jupyter.widget-view+json": {
       "model_id": "7f7994b7443344cfb436bf28895c1293",
       "version_major": 2,
       "version_minor": 0
      },
      "text/plain": [
       "Calculating Metrics:   0%|          | 0/7 [00:00<?, ?it/s]"
      ]
     },
     "metadata": {},
     "output_type": "display_data"
    },
    {
     "data": {
      "application/vnd.jupyter.widget-view+json": {
       "model_id": "af59b0cdf5aa476981b46db7e9c06337",
       "version_major": 2,
       "version_minor": 0
      },
      "text/plain": [
       "Calculating Metrics:   0%|          | 0/4 [00:00<?, ?it/s]"
      ]
     },
     "metadata": {},
     "output_type": "display_data"
    },
    {
     "data": {
      "application/vnd.jupyter.widget-view+json": {
       "model_id": "1c301e48ca064a8787a7045bdcbc1cde",
       "version_major": 2,
       "version_minor": 0
      },
      "text/plain": [
       "Calculating Metrics:   0%|          | 0/4 [00:00<?, ?it/s]"
      ]
     },
     "metadata": {},
     "output_type": "display_data"
    },
    {
     "data": {
      "application/vnd.jupyter.widget-view+json": {
       "model_id": "80bef9029087428abfdcc99268afefa5",
       "version_major": 2,
       "version_minor": 0
      },
      "text/plain": [
       "Calculating Metrics:   0%|          | 0/4 [00:00<?, ?it/s]"
      ]
     },
     "metadata": {},
     "output_type": "display_data"
    },
    {
     "data": {
      "application/vnd.jupyter.widget-view+json": {
       "model_id": "6c139424bda94a158f85fd248b956088",
       "version_major": 2,
       "version_minor": 0
      },
      "text/plain": [
       "Calculating Metrics:   0%|          | 0/7 [00:00<?, ?it/s]"
      ]
     },
     "metadata": {},
     "output_type": "display_data"
    },
    {
     "data": {
      "application/vnd.jupyter.widget-view+json": {
       "model_id": "6e03f8eb3db5435ba7e925ee0ab262e6",
       "version_major": 2,
       "version_minor": 0
      },
      "text/plain": [
       "Calculating Metrics:   0%|          | 0/4 [00:00<?, ?it/s]"
      ]
     },
     "metadata": {},
     "output_type": "display_data"
    },
    {
     "data": {
      "application/vnd.jupyter.widget-view+json": {
       "model_id": "6edc7da323c248a4aef4c9ed902adbb5",
       "version_major": 2,
       "version_minor": 0
      },
      "text/plain": [
       "Calculating Metrics:   0%|          | 0/4 [00:00<?, ?it/s]"
      ]
     },
     "metadata": {},
     "output_type": "display_data"
    },
    {
     "data": {
      "application/vnd.jupyter.widget-view+json": {
       "model_id": "cc1fe8ba717246e6bdd943d7397be72a",
       "version_major": 2,
       "version_minor": 0
      },
      "text/plain": [
       "Calculating Metrics:   0%|          | 0/4 [00:00<?, ?it/s]"
      ]
     },
     "metadata": {},
     "output_type": "display_data"
    },
    {
     "data": {
      "application/vnd.jupyter.widget-view+json": {
       "model_id": "2e418397d60d4303b8ed9f70ddcc66ab",
       "version_major": 2,
       "version_minor": 0
      },
      "text/plain": [
       "Calculating Metrics:   0%|          | 0/7 [00:00<?, ?it/s]"
      ]
     },
     "metadata": {},
     "output_type": "display_data"
    }
   ],
   "source": [
    "# Run the Onboarding Data Assistant\n",
    "result = context.assistants.onboarding.run(batch_request=batch_request)    "
   ]
  },
  {
   "cell_type": "code",
   "execution_count": 47,
   "id": "2e1bcb90-98bc-47cb-b791-85ac6d457156",
   "metadata": {},
   "outputs": [
    {
     "data": {
      "text/plain": [
       "{\n",
       "  \"expectation_suite_name\": \"iris_expectations\",\n",
       "  \"ge_cloud_id\": null,\n",
       "  \"expectations\": [\n",
       "    {\n",
       "      \"expectation_type\": \"expect_table_row_count_to_be_between\",\n",
       "      \"kwargs\": {\n",
       "        \"max_value\": 150,\n",
       "        \"min_value\": 150\n",
       "      },\n",
       "      \"meta\": {\n",
       "        \"profiler_details\": {\n",
       "          \"metric_configuration\": {\n",
       "            \"metric_name\": \"table.row_count\",\n",
       "            \"domain_kwargs\": {},\n",
       "            \"metric_value_kwargs\": null\n",
       "          },\n",
       "          \"num_batches\": 1\n",
       "        }\n",
       "      }\n",
       "    },\n",
       "    {\n",
       "      \"expectation_type\": \"expect_table_columns_to_match_set\",\n",
       "      \"kwargs\": {\n",
       "        \"exact_match\": null,\n",
       "        \"column_set\": [\n",
       "          \"sepal.width\",\n",
       "          \"sepal.length\",\n",
       "          \"class\",\n",
       "          \"petal.length\",\n",
       "          \"petal.width\"\n",
       "        ]\n",
       "      },\n",
       "      \"meta\": {\n",
       "        \"profiler_details\": {\n",
       "          \"success_ratio\": 1.0\n",
       "        }\n",
       "      }\n",
       "    },\n",
       "    {\n",
       "      \"expectation_type\": \"expect_column_values_to_not_be_null\",\n",
       "      \"kwargs\": {\n",
       "        \"column\": \"sepal.length\"\n",
       "      },\n",
       "      \"meta\": {\n",
       "        \"profiler_details\": {\n",
       "          \"metric_configuration\": {\n",
       "            \"metric_name\": \"column_values.nonnull.unexpected_count\",\n",
       "            \"domain_kwargs\": {\n",
       "              \"column\": \"sepal.length\"\n",
       "            },\n",
       "            \"metric_value_kwargs\": null\n",
       "          },\n",
       "          \"num_batches\": 1\n",
       "        }\n",
       "      }\n",
       "    },\n",
       "    {\n",
       "      \"expectation_type\": \"expect_column_values_to_not_be_null\",\n",
       "      \"kwargs\": {\n",
       "        \"column\": \"sepal.width\"\n",
       "      },\n",
       "      \"meta\": {\n",
       "        \"profiler_details\": {\n",
       "          \"metric_configuration\": {\n",
       "            \"metric_name\": \"column_values.nonnull.unexpected_count\",\n",
       "            \"domain_kwargs\": {\n",
       "              \"column\": \"sepal.width\"\n",
       "            },\n",
       "            \"metric_value_kwargs\": null\n",
       "          },\n",
       "          \"num_batches\": 1\n",
       "        }\n",
       "      }\n",
       "    },\n",
       "    {\n",
       "      \"expectation_type\": \"expect_column_values_to_not_be_null\",\n",
       "      \"kwargs\": {\n",
       "        \"column\": \"petal.length\"\n",
       "      },\n",
       "      \"meta\": {\n",
       "        \"profiler_details\": {\n",
       "          \"metric_configuration\": {\n",
       "            \"metric_name\": \"column_values.nonnull.unexpected_count\",\n",
       "            \"domain_kwargs\": {\n",
       "              \"column\": \"petal.length\"\n",
       "            },\n",
       "            \"metric_value_kwargs\": null\n",
       "          },\n",
       "          \"num_batches\": 1\n",
       "        }\n",
       "      }\n",
       "    },\n",
       "    {\n",
       "      \"expectation_type\": \"expect_column_values_to_not_be_null\",\n",
       "      \"kwargs\": {\n",
       "        \"column\": \"petal.width\"\n",
       "      },\n",
       "      \"meta\": {\n",
       "        \"profiler_details\": {\n",
       "          \"metric_configuration\": {\n",
       "            \"metric_name\": \"column_values.nonnull.unexpected_count\",\n",
       "            \"domain_kwargs\": {\n",
       "              \"column\": \"petal.width\"\n",
       "            },\n",
       "            \"metric_value_kwargs\": null\n",
       "          },\n",
       "          \"num_batches\": 1\n",
       "        }\n",
       "      }\n",
       "    },\n",
       "    {\n",
       "      \"expectation_type\": \"expect_column_values_to_not_be_null\",\n",
       "      \"kwargs\": {\n",
       "        \"column\": \"class\"\n",
       "      },\n",
       "      \"meta\": {\n",
       "        \"profiler_details\": {\n",
       "          \"metric_configuration\": {\n",
       "            \"metric_name\": \"column_values.nonnull.unexpected_count\",\n",
       "            \"domain_kwargs\": {\n",
       "              \"column\": \"class\"\n",
       "            },\n",
       "            \"metric_value_kwargs\": null\n",
       "          },\n",
       "          \"num_batches\": 1\n",
       "        }\n",
       "      }\n",
       "    },\n",
       "    {\n",
       "      \"expectation_type\": \"expect_column_value_lengths_to_be_between\",\n",
       "      \"kwargs\": {\n",
       "        \"column\": \"class\",\n",
       "        \"max_value\": 15,\n",
       "        \"mostly\": 1.0,\n",
       "        \"strict_max\": false,\n",
       "        \"min_value\": 11,\n",
       "        \"strict_min\": false\n",
       "      },\n",
       "      \"meta\": {\n",
       "        \"profiler_details\": {\n",
       "          \"column_min_length_range_estimator\": {\n",
       "            \"metric_configuration\": {\n",
       "              \"metric_name\": \"column_values.length.min\",\n",
       "              \"domain_kwargs\": {\n",
       "                \"column\": \"class\"\n",
       "              },\n",
       "              \"metric_value_kwargs\": null\n",
       "            },\n",
       "            \"num_batches\": 1\n",
       "          },\n",
       "          \"column_max_length_range_estimator\": {\n",
       "            \"metric_configuration\": {\n",
       "              \"metric_name\": \"column_values.length.max\",\n",
       "              \"domain_kwargs\": {\n",
       "                \"column\": \"class\"\n",
       "              },\n",
       "              \"metric_value_kwargs\": null\n",
       "            },\n",
       "            \"num_batches\": 1\n",
       "          }\n",
       "        }\n",
       "      }\n",
       "    },\n",
       "    {\n",
       "      \"expectation_type\": \"expect_column_values_to_match_regex\",\n",
       "      \"kwargs\": {\n",
       "        \"column\": \"class\",\n",
       "        \"regex\": \"[A-Za-z0-9\\\\.,;:!?()\\\\\\\"'%\\\\-]+\",\n",
       "        \"mostly\": 1.0\n",
       "      },\n",
       "      \"meta\": {\n",
       "        \"profiler_details\": {\n",
       "          \"success_ratio\": 1.0,\n",
       "          \"evaluated_regexes\": {\n",
       "            \"[A-Za-z0-9\\\\.,;:!?()\\\\\\\"'%\\\\-]+\": 1.0,\n",
       "            \"-?\\\\d+\": 0.0,\n",
       "            \"\\\\b[0-9a-fA-F]{8}\\\\b-[0-9a-fA-F]{4}-[0-5][0-9a-fA-F]{3}-[089ab][0-9a-fA-F]{3}-\\\\b[0-9a-fA-F]{12}\\\\b \": 0.0,\n",
       "            \"^\\\\s+\": 0.0,\n",
       "            \"(?:25[0-5]|2[0-4]\\\\d|[01]\\\\d{2}|\\\\d{1,2})(?:.(?:25[0-5]|2[0-4]\\\\d|[01]\\\\d{2}|\\\\d{1,2})){3}\": 0.0,\n",
       "            \"<\\\\/?(?:p|a|b|img)(?: \\\\/)?>\": 0.0,\n",
       "            \"-?\\\\d+(?:\\\\.\\\\d*)?\": 0.0,\n",
       "            \"\\\\d+\": 0.0,\n",
       "            \"https?:\\\\/\\\\/(?:www\\\\.)?[-a-zA-Z0-9@:%._\\\\+~#=]{2,255}\\\\.[a-z]{2,6}\\\\b(?:[-a-zA-Z0-9@:%_\\\\+.~#()?&//=]*)\": 0.0,\n",
       "            \"\\\\s+$\": 0.0\n",
       "          }\n",
       "        }\n",
       "      }\n",
       "    },\n",
       "    {\n",
       "      \"expectation_type\": \"expect_column_values_to_be_in_set\",\n",
       "      \"kwargs\": {\n",
       "        \"column\": \"sepal.length\",\n",
       "        \"mostly\": 1.0,\n",
       "        \"value_set\": [\n",
       "          4.7,\n",
       "          5.5,\n",
       "          4.5,\n",
       "          4.3,\n",
       "          4.4,\n",
       "          4.6,\n",
       "          4.8,\n",
       "          4.9,\n",
       "          5.0,\n",
       "          5.1,\n",
       "          5.2,\n",
       "          6.1,\n",
       "          7.0,\n",
       "          5.6,\n",
       "          5.9,\n",
       "          5.4,\n",
       "          6.0,\n",
       "          6.4,\n",
       "          6.5,\n",
       "          6.6,\n",
       "          6.9,\n",
       "          7.1,\n",
       "          7.4,\n",
       "          7.6,\n",
       "          7.9,\n",
       "          5.3,\n",
       "          5.8,\n",
       "          5.7,\n",
       "          6.2,\n",
       "          6.3,\n",
       "          6.7,\n",
       "          6.8,\n",
       "          7.2,\n",
       "          7.3,\n",
       "          7.7\n",
       "        ]\n",
       "      },\n",
       "      \"meta\": {\n",
       "        \"profiler_details\": {\n",
       "          \"metric_configuration\": {\n",
       "            \"metric_name\": \"column.distinct_values\",\n",
       "            \"domain_kwargs\": {\n",
       "              \"column\": \"sepal.length\"\n",
       "            },\n",
       "            \"metric_value_kwargs\": null\n",
       "          },\n",
       "          \"num_batches\": 1,\n",
       "          \"parse_strings_as_datetimes\": false\n",
       "        }\n",
       "      }\n",
       "    },\n",
       "    {\n",
       "      \"expectation_type\": \"expect_column_unique_value_count_to_be_between\",\n",
       "      \"kwargs\": {\n",
       "        \"column\": \"sepal.length\",\n",
       "        \"max_value\": 35,\n",
       "        \"strict_max\": false,\n",
       "        \"min_value\": 35,\n",
       "        \"strict_min\": false\n",
       "      },\n",
       "      \"meta\": {\n",
       "        \"profiler_details\": {\n",
       "          \"metric_configuration\": {\n",
       "            \"metric_name\": \"column.distinct_values.count\",\n",
       "            \"domain_kwargs\": {\n",
       "              \"column\": \"sepal.length\"\n",
       "            },\n",
       "            \"metric_value_kwargs\": null\n",
       "          },\n",
       "          \"num_batches\": 1\n",
       "        }\n",
       "      }\n",
       "    },\n",
       "    {\n",
       "      \"expectation_type\": \"expect_column_proportion_of_unique_values_to_be_between\",\n",
       "      \"kwargs\": {\n",
       "        \"column\": \"sepal.length\",\n",
       "        \"max_value\": 0.23333333333333334,\n",
       "        \"strict_max\": false,\n",
       "        \"min_value\": 0.23333333333333334,\n",
       "        \"strict_min\": false\n",
       "      },\n",
       "      \"meta\": {\n",
       "        \"profiler_details\": {\n",
       "          \"metric_configuration\": {\n",
       "            \"metric_name\": \"column.unique_proportion\",\n",
       "            \"domain_kwargs\": {\n",
       "              \"column\": \"sepal.length\"\n",
       "            },\n",
       "            \"metric_value_kwargs\": null\n",
       "          },\n",
       "          \"num_batches\": 1\n",
       "        }\n",
       "      }\n",
       "    },\n",
       "    {\n",
       "      \"expectation_type\": \"expect_column_values_to_be_in_set\",\n",
       "      \"kwargs\": {\n",
       "        \"column\": \"sepal.width\",\n",
       "        \"mostly\": 1.0,\n",
       "        \"value_set\": [\n",
       "          2.5,\n",
       "          2.4,\n",
       "          2.0,\n",
       "          2.2,\n",
       "          2.3,\n",
       "          2.6,\n",
       "          2.7,\n",
       "          2.8,\n",
       "          2.9,\n",
       "          3.0,\n",
       "          3.1,\n",
       "          4.0,\n",
       "          3.5,\n",
       "          4.1,\n",
       "          4.4,\n",
       "          3.6,\n",
       "          3.2,\n",
       "          3.3,\n",
       "          3.7,\n",
       "          3.8,\n",
       "          4.2,\n",
       "          3.4,\n",
       "          3.9\n",
       "        ]\n",
       "      },\n",
       "      \"meta\": {\n",
       "        \"profiler_details\": {\n",
       "          \"metric_configuration\": {\n",
       "            \"metric_name\": \"column.distinct_values\",\n",
       "            \"domain_kwargs\": {\n",
       "              \"column\": \"sepal.width\"\n",
       "            },\n",
       "            \"metric_value_kwargs\": null\n",
       "          },\n",
       "          \"num_batches\": 1,\n",
       "          \"parse_strings_as_datetimes\": false\n",
       "        }\n",
       "      }\n",
       "    },\n",
       "    {\n",
       "      \"expectation_type\": \"expect_column_unique_value_count_to_be_between\",\n",
       "      \"kwargs\": {\n",
       "        \"column\": \"sepal.width\",\n",
       "        \"max_value\": 23,\n",
       "        \"strict_max\": false,\n",
       "        \"min_value\": 23,\n",
       "        \"strict_min\": false\n",
       "      },\n",
       "      \"meta\": {\n",
       "        \"profiler_details\": {\n",
       "          \"metric_configuration\": {\n",
       "            \"metric_name\": \"column.distinct_values.count\",\n",
       "            \"domain_kwargs\": {\n",
       "              \"column\": \"sepal.width\"\n",
       "            },\n",
       "            \"metric_value_kwargs\": null\n",
       "          },\n",
       "          \"num_batches\": 1\n",
       "        }\n",
       "      }\n",
       "    },\n",
       "    {\n",
       "      \"expectation_type\": \"expect_column_proportion_of_unique_values_to_be_between\",\n",
       "      \"kwargs\": {\n",
       "        \"column\": \"sepal.width\",\n",
       "        \"max_value\": 0.15333333333333332,\n",
       "        \"strict_max\": false,\n",
       "        \"min_value\": 0.15333333333333332,\n",
       "        \"strict_min\": false\n",
       "      },\n",
       "      \"meta\": {\n",
       "        \"profiler_details\": {\n",
       "          \"metric_configuration\": {\n",
       "            \"metric_name\": \"column.unique_proportion\",\n",
       "            \"domain_kwargs\": {\n",
       "              \"column\": \"sepal.width\"\n",
       "            },\n",
       "            \"metric_value_kwargs\": null\n",
       "          },\n",
       "          \"num_batches\": 1\n",
       "        }\n",
       "      }\n",
       "    },\n",
       "    {\n",
       "      \"expectation_type\": \"expect_column_values_to_be_in_set\",\n",
       "      \"kwargs\": {\n",
       "        \"column\": \"petal.length\",\n",
       "        \"mostly\": 1.0,\n",
       "        \"value_set\": [\n",
       "          1.2,\n",
       "          1.0,\n",
       "          1.4,\n",
       "          1.3,\n",
       "          1.1,\n",
       "          1.5,\n",
       "          1.6,\n",
       "          1.7,\n",
       "          1.9,\n",
       "          3.0,\n",
       "          3.3,\n",
       "          3.5,\n",
       "          4.0,\n",
       "          5.0,\n",
       "          6.0,\n",
       "          4.1,\n",
       "          4.4,\n",
       "          4.5,\n",
       "          4.6,\n",
       "          4.9,\n",
       "          5.1,\n",
       "          5.4,\n",
       "          5.5,\n",
       "          5.6,\n",
       "          5.9,\n",
       "          6.1,\n",
       "          6.4,\n",
       "          6.6,\n",
       "          6.9,\n",
       "          3.6,\n",
       "          3.7,\n",
       "          3.8,\n",
       "          4.2,\n",
       "          4.3,\n",
       "          4.7,\n",
       "          4.8,\n",
       "          5.2,\n",
       "          5.3,\n",
       "          5.7,\n",
       "          5.8,\n",
       "          6.3,\n",
       "          6.7,\n",
       "          3.9\n",
       "        ]\n",
       "      },\n",
       "      \"meta\": {\n",
       "        \"profiler_details\": {\n",
       "          \"metric_configuration\": {\n",
       "            \"metric_name\": \"column.distinct_values\",\n",
       "            \"domain_kwargs\": {\n",
       "              \"column\": \"petal.length\"\n",
       "            },\n",
       "            \"metric_value_kwargs\": null\n",
       "          },\n",
       "          \"num_batches\": 1,\n",
       "          \"parse_strings_as_datetimes\": false\n",
       "        }\n",
       "      }\n",
       "    },\n",
       "    {\n",
       "      \"expectation_type\": \"expect_column_unique_value_count_to_be_between\",\n",
       "      \"kwargs\": {\n",
       "        \"column\": \"petal.length\",\n",
       "        \"max_value\": 43,\n",
       "        \"strict_max\": false,\n",
       "        \"min_value\": 43,\n",
       "        \"strict_min\": false\n",
       "      },\n",
       "      \"meta\": {\n",
       "        \"profiler_details\": {\n",
       "          \"metric_configuration\": {\n",
       "            \"metric_name\": \"column.distinct_values.count\",\n",
       "            \"domain_kwargs\": {\n",
       "              \"column\": \"petal.length\"\n",
       "            },\n",
       "            \"metric_value_kwargs\": null\n",
       "          },\n",
       "          \"num_batches\": 1\n",
       "        }\n",
       "      }\n",
       "    },\n",
       "    {\n",
       "      \"expectation_type\": \"expect_column_proportion_of_unique_values_to_be_between\",\n",
       "      \"kwargs\": {\n",
       "        \"column\": \"petal.length\",\n",
       "        \"max_value\": 0.2866666666666667,\n",
       "        \"strict_max\": false,\n",
       "        \"min_value\": 0.2866666666666667,\n",
       "        \"strict_min\": false\n",
       "      },\n",
       "      \"meta\": {\n",
       "        \"profiler_details\": {\n",
       "          \"metric_configuration\": {\n",
       "            \"metric_name\": \"column.unique_proportion\",\n",
       "            \"domain_kwargs\": {\n",
       "              \"column\": \"petal.length\"\n",
       "            },\n",
       "            \"metric_value_kwargs\": null\n",
       "          },\n",
       "          \"num_batches\": 1\n",
       "        }\n",
       "      }\n",
       "    },\n",
       "    {\n",
       "      \"expectation_type\": \"expect_column_values_to_be_in_set\",\n",
       "      \"kwargs\": {\n",
       "        \"column\": \"petal.width\",\n",
       "        \"mostly\": 1.0,\n",
       "        \"value_set\": [\n",
       "          0.4,\n",
       "          0.3,\n",
       "          0.2,\n",
       "          0.5,\n",
       "          0.6,\n",
       "          1.0,\n",
       "          1.1,\n",
       "          1.2,\n",
       "          1.3,\n",
       "          1.4,\n",
       "          1.5,\n",
       "          2.0,\n",
       "          2.5,\n",
       "          1.6,\n",
       "          2.1,\n",
       "          1.7,\n",
       "          0.1,\n",
       "          2.2,\n",
       "          2.3,\n",
       "          1.8,\n",
       "          1.9,\n",
       "          2.4\n",
       "        ]\n",
       "      },\n",
       "      \"meta\": {\n",
       "        \"profiler_details\": {\n",
       "          \"metric_configuration\": {\n",
       "            \"metric_name\": \"column.distinct_values\",\n",
       "            \"domain_kwargs\": {\n",
       "              \"column\": \"petal.width\"\n",
       "            },\n",
       "            \"metric_value_kwargs\": null\n",
       "          },\n",
       "          \"num_batches\": 1,\n",
       "          \"parse_strings_as_datetimes\": false\n",
       "        }\n",
       "      }\n",
       "    },\n",
       "    {\n",
       "      \"expectation_type\": \"expect_column_unique_value_count_to_be_between\",\n",
       "      \"kwargs\": {\n",
       "        \"column\": \"petal.width\",\n",
       "        \"max_value\": 22,\n",
       "        \"strict_max\": false,\n",
       "        \"min_value\": 22,\n",
       "        \"strict_min\": false\n",
       "      },\n",
       "      \"meta\": {\n",
       "        \"profiler_details\": {\n",
       "          \"metric_configuration\": {\n",
       "            \"metric_name\": \"column.distinct_values.count\",\n",
       "            \"domain_kwargs\": {\n",
       "              \"column\": \"petal.width\"\n",
       "            },\n",
       "            \"metric_value_kwargs\": null\n",
       "          },\n",
       "          \"num_batches\": 1\n",
       "        }\n",
       "      }\n",
       "    },\n",
       "    {\n",
       "      \"expectation_type\": \"expect_column_proportion_of_unique_values_to_be_between\",\n",
       "      \"kwargs\": {\n",
       "        \"column\": \"petal.width\",\n",
       "        \"max_value\": 0.14666666666666667,\n",
       "        \"strict_max\": false,\n",
       "        \"min_value\": 0.14666666666666667,\n",
       "        \"strict_min\": false\n",
       "      },\n",
       "      \"meta\": {\n",
       "        \"profiler_details\": {\n",
       "          \"metric_configuration\": {\n",
       "            \"metric_name\": \"column.unique_proportion\",\n",
       "            \"domain_kwargs\": {\n",
       "              \"column\": \"petal.width\"\n",
       "            },\n",
       "            \"metric_value_kwargs\": null\n",
       "          },\n",
       "          \"num_batches\": 1\n",
       "        }\n",
       "      }\n",
       "    },\n",
       "    {\n",
       "      \"expectation_type\": \"expect_column_values_to_be_in_set\",\n",
       "      \"kwargs\": {\n",
       "        \"column\": \"class\",\n",
       "        \"mostly\": 1.0,\n",
       "        \"value_set\": [\n",
       "          \"Iris-versicolor\",\n",
       "          \"Iris-setosa\",\n",
       "          \"Iris-virginica\"\n",
       "        ]\n",
       "      },\n",
       "      \"meta\": {\n",
       "        \"profiler_details\": {\n",
       "          \"metric_configuration\": {\n",
       "            \"metric_name\": \"column.distinct_values\",\n",
       "            \"domain_kwargs\": {\n",
       "              \"column\": \"class\"\n",
       "            },\n",
       "            \"metric_value_kwargs\": null\n",
       "          },\n",
       "          \"num_batches\": 1,\n",
       "          \"parse_strings_as_datetimes\": false\n",
       "        }\n",
       "      }\n",
       "    },\n",
       "    {\n",
       "      \"expectation_type\": \"expect_column_unique_value_count_to_be_between\",\n",
       "      \"kwargs\": {\n",
       "        \"column\": \"class\",\n",
       "        \"max_value\": 3,\n",
       "        \"strict_max\": false,\n",
       "        \"min_value\": 3,\n",
       "        \"strict_min\": false\n",
       "      },\n",
       "      \"meta\": {\n",
       "        \"profiler_details\": {\n",
       "          \"metric_configuration\": {\n",
       "            \"metric_name\": \"column.distinct_values.count\",\n",
       "            \"domain_kwargs\": {\n",
       "              \"column\": \"class\"\n",
       "            },\n",
       "            \"metric_value_kwargs\": null\n",
       "          },\n",
       "          \"num_batches\": 1\n",
       "        }\n",
       "      }\n",
       "    },\n",
       "    {\n",
       "      \"expectation_type\": \"expect_column_proportion_of_unique_values_to_be_between\",\n",
       "      \"kwargs\": {\n",
       "        \"column\": \"class\",\n",
       "        \"max_value\": 0.02,\n",
       "        \"strict_max\": false,\n",
       "        \"min_value\": 0.02,\n",
       "        \"strict_min\": false\n",
       "      },\n",
       "      \"meta\": {\n",
       "        \"profiler_details\": {\n",
       "          \"metric_configuration\": {\n",
       "            \"metric_name\": \"column.unique_proportion\",\n",
       "            \"domain_kwargs\": {\n",
       "              \"column\": \"class\"\n",
       "            },\n",
       "            \"metric_value_kwargs\": null\n",
       "          },\n",
       "          \"num_batches\": 1\n",
       "        }\n",
       "      }\n",
       "    }\n",
       "  ],\n",
       "  \"data_asset_type\": null,\n",
       "  \"meta\": {\n",
       "    \"great_expectations_version\": \"0.17.19\",\n",
       "    \"citations\": [\n",
       "      {\n",
       "        \"citation_date\": \"2023-10-03T18:15:22.325663Z\",\n",
       "        \"comment\": \"Created by effective Rule-Based Profiler of OnboardingDataAssistant with the configuration included.\\n\"\n",
       "      }\n",
       "    ]\n",
       "  }\n",
       "}"
      ]
     },
     "execution_count": 47,
     "metadata": {},
     "output_type": "execute_result"
    }
   ],
   "source": [
    "# Save the auto-generated expectation suite\n",
    "expectation_suite = result.get_expectation_suite(expectation_suite_name=suite_name)\n",
    "context.add_or_update_expectation_suite(expectation_suite=expectation_suite)"
   ]
  },
  {
   "cell_type": "markdown",
   "id": "606fb1b1-875e-4ed0-81a3-7af22a8f6674",
   "metadata": {},
   "source": [
    "## What Next?\n",
    "\n",
    "At this point you have an auto-generated expectation suite. You can use this to generate validation runs with code like:\n",
    "\n",
    "```python\n",
    "checkpoint = context.add_or_update_checkpoint(\n",
    "    name=\"iris_validation_checkpoint\",\n",
    "    run_name_template=\"%Y-%m-demo\", # NOTE: this is required to make data docs work on GitHub Pages\n",
    "    validations=[{\n",
    "        \"batch_request\": batch_request,\n",
    "        \"expectation_suite_name\": suite_name\n",
    "    }]\n",
    ")\n",
    "checkpoint.run()\n",
    "```\n",
    "\n",
    "In all likelihood, however, there are going to be A LOT of auto-generated expectations that don't make much sense or provide little in the way of useful analysis for your dataset. Now that you've got a starting point, you'll want to go in and tailor/customize the expectations to your need as your understanding of the data gets deeper and more nuanced."
   ]
  }
 ],
 "metadata": {
  "kernelspec": {
   "display_name": "Python 3 (ipykernel)",
   "language": "python",
   "name": "python3"
  },
  "language_info": {
   "codemirror_mode": {
    "name": "ipython",
    "version": 3
   },
   "file_extension": ".py",
   "mimetype": "text/x-python",
   "name": "python",
   "nbconvert_exporter": "python",
   "pygments_lexer": "ipython3",
   "version": "3.11.6"
  }
 },
 "nbformat": 4,
 "nbformat_minor": 5
}
